{
 "cells": [
  {
   "cell_type": "code",
   "execution_count": 59,
   "metadata": {},
   "outputs": [],
   "source": [
    "from webdriver_manager.firefox import GeckoDriverManager\n",
    "import pandas as pd\n",
    "from selenium.webdriver.firefox.options import Options\n",
    "from selenium.webdriver.common.by import By\n",
    "from selenium import webdriver\n",
    "from selenium.webdriver.common.keys import Keys\n",
    "import time\n",
    "from datetime import datetime, timedelta, date\n",
    "import sys\n",
    "import os\n",
    "import logging\n",
    "import pdb"
   ]
  },
  {
   "cell_type": "code",
   "execution_count": 60,
   "metadata": {},
   "outputs": [],
   "source": [
    "driver = webdriver.Firefox()"
   ]
  },
  {
   "cell_type": "code",
   "execution_count": 61,
   "metadata": {},
   "outputs": [],
   "source": [
    "url = \"https://companiesmarketcap.com/reddit/marketcap/\""
   ]
  },
  {
   "cell_type": "code",
   "execution_count": 62,
   "metadata": {},
   "outputs": [],
   "source": [
    "driver.get(url)"
   ]
  },
  {
   "cell_type": "code",
   "execution_count": 63,
   "metadata": {},
   "outputs": [],
   "source": [
    "formatted_name = \"Grab\""
   ]
  },
  {
   "cell_type": "code",
   "execution_count": 64,
   "metadata": {},
   "outputs": [],
   "source": [
    "search_tab = driver.find_element(By.ID, \"search-input\")\n",
    "search_tab.click()\n",
    "search_tab.send_keys(formatted_name)\n",
    "time.sleep(1)\n",
    "driver.find_elements(By.ID, \"typeahead-search-results\")[0].click()\n",
    "\n",
    "\n",
    "\n"
   ]
  },
  {
   "cell_type": "code",
   "execution_count": 52,
   "metadata": {},
   "outputs": [
    {
     "ename": "SyntaxError",
     "evalue": "expression expected after dictionary key and ':' (2080323083.py, line 36)",
     "output_type": "error",
     "traceback": [
      "\u001b[1;36m  Cell \u001b[1;32mIn[52], line 36\u001b[1;36m\u001b[0m\n\u001b[1;33m    df_dict = {\"players\" : , \"formater_name\" : , \"scraped_name\" : product_name, \"year\" : year_market_cap, \"Discounted_Price_L1\" : discounted_price, \"Offer_L1\" : offer, \"Product_Raw\" : product_raw, \"Product_Url\" : product_url}\u001b[0m\n\u001b[1;37m                         ^\u001b[0m\n\u001b[1;31mSyntaxError\u001b[0m\u001b[1;31m:\u001b[0m expression expected after dictionary key and ':'\n"
     ]
    }
   ],
   "source": [
    "header_1 = \"Market cap\"\n",
    "header_2 = \"Revenue\"\n",
    "header_3 = \"P/E ratio\"\n",
    "\n",
    "header_tags_list = driver.find_element(By.CLASS_NAME, \"nav-tabs\").find_elements(By.CLASS_NAME, \"nav-link\")\n",
    "len(header_tags_list)\n",
    "\n",
    "for i in range(len(header_tags_list)):\n",
    "    header_tag = driver.find_element(By.CLASS_NAME, \"nav-tabs\").find_elements(By.CLASS_NAME, \"nav-link\")[i].text\n",
    "    \n",
    "    if header_tag == header_1:\n",
    "\n",
    "        search_tag_list = driver.find_elements(By.TAG_NAME, \"tbody\")[0].find_elements(By.TAG_NAME, \"tr\")\n",
    "\n",
    "        print(\"Product Count : \", len(search_tag_list))\n",
    "        # logger.info(\"Product Count : \" +  str(len(search_tag_list)))\n",
    "\n",
    "        for a in range(len(search_tag_list)):\n",
    "                try:\n",
    "                    year_market_cap = search_tag_list[a].find_element(By.CLASS_NAME, \"css-xrzmfa\").text\n",
    "                except:\n",
    "                    year_market_cap =  \"\"\n",
    "                try:\n",
    "                    market_cap = search_tag_list[a].find_element(By.CLASS_NAME, \"css-xrzmfa\").text\n",
    "                except:\n",
    "                    market_cap =  \"\"\n",
    "                try:\n",
    "                    market_cap_change = search_tag_list[a].find_element(By.CLASS_NAME, \"css-xrzmfa\").text\n",
    "                except:\n",
    "                    market_cap_change =  \"\"\n",
    "                try:\n",
    "                    market_cap_raw = search_tag_list[a].find_element(By.CLASS_NAME, \"css-xrzmfa\").text\n",
    "                except:\n",
    "                    market_cap_raw =  \"\"\n",
    "\n",
    "                df_dict = {\"players\" : , \"formater_name\" : , \"scraped_name\" : product_name, \"year\" : year_market_cap, \"Discounted_Price_L1\" : discounted_price, \"Offer_L1\" : offer, \"Product_Raw\" : product_raw, \"Product_Url\" : product_url}\n",
    "\n",
    "                df = pd.DataFrame(df_dict, index=[0], columns=[\"Category\", \"Tag\", \"Product_Name\", \"MRP_L1\", \"Discounted_Price_L1\", \"Offer_L1\", \"Product_Raw\", \"Product_Url\"])\n",
    "\n",
    "\n",
    "                with open(website_output_file_name, 'a',encoding='utf-8',newline ='') as f:\n",
    "                    df.to_csv(f, mode='a', header=f.tell()==0)\n",
    "\n",
    "### change to Revenue/\n",
    "for i in range(len(header_tags_list)):\n",
    "    header_tag = driver.find_element(By.CLASS_NAME, \"nav-tabs\").find_elements(By.CLASS_NAME, \"nav-link\")[i].text\n",
    "    \n",
    "    if header_tag == header_2:\n",
    "\n",
    "        search_tag_list = driver.find_elements(By.TAG_NAME, \"tbody\")[0].find_elements(By.TAG_NAME, \"tr\")\n",
    "\n",
    "        print(\"Product Count : \", len(search_tag_list))\n",
    "        # logger.info(\"Product Count : \" +  str(len(search_tag_list)))\n",
    "\n",
    "        for a in range(len(search_tag_list)):\n",
    "                try:\n",
    "                    year_revenue = search_tag_list[a].find_element(By.CLASS_NAME, \"css-xrzmfa\").text\n",
    "                except:\n",
    "                    year_revenue =  \"\"\n",
    "                try:\n",
    "                    revenue = search_tag_list[a].find_element(By.CLASS_NAME, \"css-xrzmfa\").text\n",
    "                except:\n",
    "                    revenue =  \"\"\n",
    "                try:\n",
    "                    revenue_change = search_tag_list[a].find_element(By.CLASS_NAME, \"css-xrzmfa\").text\n",
    "                except:\n",
    "                    revenue_change =  \"\"\n",
    "                try:\n",
    "                    revenue_raw = search_tag_list[a].find_element(By.CLASS_NAME, \"css-xrzmfa\").text\n",
    "                except:\n",
    "                    revenue_raw =  \"\"\n",
    "                df_dict = {\"players\" : , \"formater_name\" : , \"scraped_name\" : product_name, \"year\" : year_market_cap, \"Discounted_Price_L1\" : discounted_price, \"Offer_L1\" : offer, \"Product_Raw\" : product_raw, \"Product_Url\" : product_url}\n",
    "\n",
    "                df = pd.DataFrame(df_dict, index=[0], columns=[\"Category\", \"Tag\", \"Product_Name\", \"MRP_L1\", \"Discounted_Price_L1\", \"Offer_L1\", \"Product_Raw\", \"Product_Url\"])\n",
    "\n",
    "\n",
    "                with open(website_output_file_name, 'a',encoding='utf-8',newline ='') as f:\n",
    "                    df.to_csv(f, mode='a', header=f.tell()==0)\n",
    "\n",
    "### change tp p/E ratio\n",
    "for i in range(len(header_tags_list)):\n",
    "    header_tag = driver.find_element(By.CLASS_NAME, \"nav-tabs\").find_elements(By.CLASS_NAME, \"nav-link\")[i].text\n",
    "    \n",
    "    if header_tag == header_3:\n",
    "\n",
    "        search_tag_list = driver.find_elements(By.TAG_NAME, \"tbody\")[0].find_elements(By.TAG_NAME, \"tr\")\n",
    "\n",
    "        print(\"Product Count : \", len(search_tag_list))\n",
    "        # logger.info(\"Product Count : \" +  str(len(search_tag_list)))\n",
    "\n",
    "        for a in range(len(search_tag_list)):\n",
    "                try:\n",
    "                    year_peratio = search_tag_list[a].find_element(By.CLASS_NAME, \"css-xrzmfa\").text\n",
    "                except:\n",
    "                    year_peratio =  \"\"\n",
    "                try:\n",
    "                    peratio = search_tag_list[a].find_element(By.CLASS_NAME, \"css-xrzmfa\").text\n",
    "                except:\n",
    "                    peratio =  \"\"\n",
    "                try:\n",
    "                    peratio_change = search_tag_list[a].find_element(By.CLASS_NAME, \"css-xrzmfa\").text\n",
    "                except:\n",
    "                    peratio_change =  \"\"\n",
    "                try:\n",
    "                    peratio_raw = search_tag_list[a].find_element(By.CLASS_NAME, \"css-xrzmfa\").text\n",
    "                except:\n",
    "                    peratio_raw =  \"\"\n",
    "\n",
    "                df_dict = {\"players\" : , \"formater_name\" : , \"scraped_name\" : product_name, \"year\" : year_market_cap, \"Discounted_Price_L1\" : discounted_price, \"Offer_L1\" : offer, \"Product_Raw\" : product_raw, \"Product_Url\" : product_url}\n",
    "\n",
    "                df = pd.DataFrame(df_dict, index=[0], columns=[\"Category\", \"Tag\", \"Product_Name\", \"MRP_L1\", \"Discounted_Price_L1\", \"Offer_L1\", \"Product_Raw\", \"Product_Url\"])\n",
    "\n",
    "\n",
    "                with open(website_output_file_name, 'a',encoding='utf-8',newline ='') as f:\n",
    "                    df.to_csv(f, mode='a', header=f.tell()==0)\n",
    "            \n",
    "\n",
    "\n",
    "\n"
   ]
  },
  {
   "cell_type": "code",
   "execution_count": null,
   "metadata": {},
   "outputs": [],
   "source": []
  }
 ],
 "metadata": {
  "kernelspec": {
   "display_name": "Python 3",
   "language": "python",
   "name": "python3"
  },
  "language_info": {
   "codemirror_mode": {
    "name": "ipython",
    "version": 3
   },
   "file_extension": ".py",
   "mimetype": "text/x-python",
   "name": "python",
   "nbconvert_exporter": "python",
   "pygments_lexer": "ipython3",
   "version": "3.11.0"
  }
 },
 "nbformat": 4,
 "nbformat_minor": 2
}
