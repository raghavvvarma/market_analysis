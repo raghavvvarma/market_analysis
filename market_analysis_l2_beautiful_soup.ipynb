{
 "cells": [
  {
   "cell_type": "code",
   "execution_count": 51,
   "metadata": {},
   "outputs": [],
   "source": [
    "import requests\n",
    "from bs4 import BeautifulSoup\n",
    "import pandas as pd\n",
    "import time\n",
    "import sys\n",
    "import os\n",
    "import logging\n",
    "import pdb"
   ]
  },
  {
   "cell_type": "code",
   "execution_count": 52,
   "metadata": {},
   "outputs": [],
   "source": [
    "url = \"https://companiesmarketcap.com/grab/marketcap/\"\n",
    "response = requests.get(url)\n",
    "soup = BeautifulSoup(response.content, 'html.parser')"
   ]
  },
  {
   "cell_type": "code",
   "execution_count": 53,
   "metadata": {},
   "outputs": [
    {
     "name": "stdout",
     "output_type": "stream",
     "text": [
      "4\n"
     ]
    }
   ],
   "source": [
    "search_tag_list = soup.find(\"tbody\").find_all(\"tr\")\n",
    "\n",
    "print(len(search_tag_list))"
   ]
  },
  {
   "cell_type": "code",
   "execution_count": 99,
   "metadata": {},
   "outputs": [
    {
     "name": "stdout",
     "output_type": "stream",
     "text": [
      " Singapore\n"
     ]
    }
   ],
   "source": []
  },
  {
   "cell_type": "code",
   "execution_count": 100,
   "metadata": {},
   "outputs": [
    {
     "name": "stdout",
     "output_type": "stream",
     "text": [
      "{'players': 'grab', 'formated_name': 'Grab Holdings  ', 'scraped_name': 'GRAB', 'county': ' Singapore', 'year_market_cap': '2024', 'market_cap': '$13.96 B', 'market_cap_change': '5.94%', 'market_cap_raw': '2024$13.96 B5.94%'}\n",
      "{'players': 'grab', 'formated_name': 'Grab Holdings  ', 'scraped_name': 'GRAB', 'county': ' Singapore', 'year_market_cap': '2023', 'market_cap': '$13.18 B', 'market_cap_change': '6.31%', 'market_cap_raw': '2023$13.18 B6.31%'}\n",
      "{'players': 'grab', 'formated_name': 'Grab Holdings  ', 'scraped_name': 'GRAB', 'county': ' Singapore', 'year_market_cap': '2022', 'market_cap': '$12.40 B', 'market_cap_change': '-53.51%', 'market_cap_raw': '2022$12.40 B-53.51%'}\n",
      "{'players': 'grab', 'formated_name': 'Grab Holdings  ', 'scraped_name': 'GRAB', 'county': ' Singapore', 'year_market_cap': '2021', 'market_cap': '$26.67 B', 'market_cap_change': '', 'market_cap_raw': '2021$26.67 B'}\n"
     ]
    }
   ],
   "source": [
    "for a in range(len(search_tag_list)):\n",
    "        try:\n",
    "            players = \"grab\"\n",
    "        except:\n",
    "            players = \"\"\n",
    "        try:\n",
    "            formated_name = soup.find(class_ = \"company-name\").text\n",
    "        except:\n",
    "            formated_name = \"\"\n",
    "        try:\n",
    "            product_name = soup.find(class_ = \"company-code\").text\n",
    "        except:\n",
    "            product_name = \"\"\n",
    "        try:\n",
    "            country = soup.find_all(class_= \"info-box\")[2].find(class_ = \"responsive-hidden\").text\n",
    "        except:\n",
    "            country = \"\"\n",
    "        try:\n",
    "            year_market_cap = search_tag_list[a].find_all(\"td\")[0].text\n",
    "        except:\n",
    "            year_market_cap =  \"\"\n",
    "        try:\n",
    "            market_cap = search_tag_list[a].find_all(\"td\")[1].text\n",
    "        except:\n",
    "            market_cap =  \"\"\n",
    "        try:\n",
    "            market_cap_change = search_tag_list[a].find_all(\"td\")[2].text\n",
    "        except:\n",
    "            market_cap_change =  \"\"\n",
    "        try:\n",
    "            market_cap_raw = search_tag_list[a].text\n",
    "        except:\n",
    "            market_cap_raw =  \"\"\n",
    "        market_cap_dict = {\"players\" : players, \"formated_name\" : formated_name, \"scraped_name\" : product_name,\"county\":country, \"year_market_cap\" : year_market_cap,\"market_cap\":market_cap,  \"market_cap_change\":market_cap_change, \"market_cap_raw\":market_cap_raw}\n",
    "        print (market_cap_dict)"
   ]
  },
  {
   "cell_type": "code",
   "execution_count": null,
   "metadata": {},
   "outputs": [],
   "source": []
  }
 ],
 "metadata": {
  "kernelspec": {
   "display_name": "Python 3",
   "language": "python",
   "name": "python3"
  },
  "language_info": {
   "codemirror_mode": {
    "name": "ipython",
    "version": 3
   },
   "file_extension": ".py",
   "mimetype": "text/x-python",
   "name": "python",
   "nbconvert_exporter": "python",
   "pygments_lexer": "ipython3",
   "version": "3.11.0"
  }
 },
 "nbformat": 4,
 "nbformat_minor": 2
}
